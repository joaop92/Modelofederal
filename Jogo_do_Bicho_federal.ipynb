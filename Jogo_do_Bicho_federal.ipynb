{
  "nbformat": 4,
  "nbformat_minor": 0,
  "metadata": {
    "colab": {
      "provenance": [],
      "authorship_tag": "ABX9TyORw6qPDy/sCEZKMHYI+VWC",
      "include_colab_link": true
    },
    "kernelspec": {
      "name": "python3",
      "display_name": "Python 3"
    },
    "language_info": {
      "name": "python"
    }
  },
  "cells": [
    {
      "cell_type": "markdown",
      "metadata": {
        "id": "view-in-github",
        "colab_type": "text"
      },
      "source": [
        "<a href=\"https://colab.research.google.com/github/joaop92/Modelofederal/blob/main/Jogo_do_Bicho_federal.ipynb\" target=\"_parent\"><img src=\"https://colab.research.google.com/assets/colab-badge.svg\" alt=\"Open In Colab\"/></a>"
      ]
    },
    {
      "cell_type": "code",
      "execution_count": 51,
      "metadata": {
        "id": "g-9x3VbOtWo_",
        "colab": {
          "base_uri": "https://localhost:8080/"
        },
        "outputId": "ce1d0bfa-a679-44d4-cb70-0896ca1c638e"
      },
      "outputs": [
        {
          "output_type": "stream",
          "name": "stdout",
          "text": [
            "Resultados previstos para o próximo jogo: [[40336 83586 73495 14166 40417]]\n"
          ]
        },
        {
          "output_type": "stream",
          "name": "stderr",
          "text": [
            "/usr/local/lib/python3.10/dist-packages/sklearn/base.py:439: UserWarning: X does not have valid feature names, but RandomForestClassifier was fitted with feature names\n",
            "  warnings.warn(\n"
          ]
        }
      ],
      "source": [
        "import pandas as pd\n",
        "from sklearn.model_selection import train_test_split\n",
        "from sklearn.ensemble import RandomForestClassifier\n",
        "from sklearn.metrics import accuracy_score"
      ]
    },
    {
      "cell_type": "code",
      "source": [
        "\n",
        "# Carregar os dados do arquivo Excel\n",
        "dados = pd.read_excel(\"Federal.xlsx\")\n",
        "\n"
      ],
      "metadata": {
        "id": "jOeAAPV64Z9O",
        "collapsed": true
      },
      "execution_count": 46,
      "outputs": []
    },
    {
      "cell_type": "code",
      "source": [
        "# Visualizar as primeiras linhas do dataframe para entender a estrutura dos dados\n",
        "print(dados.head())"
      ],
      "metadata": {
        "colab": {
          "base_uri": "https://localhost:8080/"
        },
        "id": "IUO_WdbXCwR9",
        "outputId": "1d397d2e-6418-42c9-c4e9-87aae35f7100"
      },
      "execution_count": 47,
      "outputs": [
        {
          "output_type": "stream",
          "name": "stdout",
          "text": [
            "   Extração Data Sorteio  1º prêmio Valor 1º prêmio  2º prêmio  \\\n",
            "0         1   15/09/1962       5349    R$200.000,00      38031   \n",
            "1         2   22/09/1962       3334    R$200.000,00      34714   \n",
            "2         3   29/09/1962      27793    R$200.000,00      15637   \n",
            "3         4   03/10/1962      10896    R$200.000,00      37354   \n",
            "4         5   06/10/1962      23972    R$200.000,00      33280   \n",
            "\n",
            "  Valor 2º prêmio  3º prêmio Valor 3º prêmio  4º prêmio Valor 4º prêmio  \\\n",
            "0      R$8.000,00      26492      R$5.000,00      25151      R$4.000,00   \n",
            "1      R$8.000,00      20967      R$5.000,00      36468      R$4.000,00   \n",
            "2      R$8.000,00      11505      R$5.000,00      14184      R$4.000,00   \n",
            "3      R$8.000,00      38461      R$5.000,00       1951      R$4.000,00   \n",
            "4      R$8.000,00       3664      R$5.000,00      34058      R$4.000,00   \n",
            "\n",
            "   5º prêmio Valor 5º prêmio  \n",
            "0       1416      R$2.000,00  \n",
            "1      18452      R$2.000,00  \n",
            "2      25711      R$2.000,00  \n",
            "3      33569      R$2.000,00  \n",
            "4       3746      R$2.000,00  \n"
          ]
        }
      ]
    },
    {
      "cell_type": "code",
      "source": [
        "# Agora, você pode selecionar os valores reais dos últimos resultados do jogo e usá-los como exemplos\n",
        "# Suponha que os últimos resultados estejam nas últimas linhas do dataframe\n",
        "ultimos_resultados = dados.tail(3)  # Por exemplo, estamos selecionando os três últimos resultados\n"
      ],
      "metadata": {
        "id": "nIHyWSpwC8ZN"
      },
      "execution_count": 48,
      "outputs": []
    },
    {
      "cell_type": "code",
      "source": [
        "# Amostrar aleatoriamente 10% dos dados\n",
        "dados_amostrados = dados.sample(frac=0.1, random_state=42)\n",
        "\n"
      ],
      "metadata": {
        "id": "qrWruOBV4c_e"
      },
      "execution_count": 34,
      "outputs": []
    },
    {
      "cell_type": "code",
      "source": [],
      "metadata": {
        "id": "G3DQBBbIC39e"
      },
      "execution_count": null,
      "outputs": []
    },
    {
      "cell_type": "code",
      "source": [
        "# Definir as colunas dos prêmios como recursos (features)\n",
        "colunas_recursos = [\"1º prêmio\", \"2º prêmio\", \"3º prêmio\", \"4º prêmio\", \"5º prêmio\"]\n",
        "X = dados_amostrados[colunas_recursos]"
      ],
      "metadata": {
        "id": "YHDoAyGOmU_F"
      },
      "execution_count": 35,
      "outputs": []
    },
    {
      "cell_type": "code",
      "source": [
        "# Para simplificar, vamos prever um dos prêmios (por exemplo, 1º prêmio)\n",
        "# Normalmente, precisaríamos de um target específico ou definir a previsão adequadamente\n",
        "# Aqui, utilizamos \"1º prêmio\" apenas para demonstrar o processo\n",
        "y = dados_amostrados[  \"1º prêmio\"]"
      ],
      "metadata": {
        "id": "chhV0QZcmozp"
      },
      "execution_count": 36,
      "outputs": []
    },
    {
      "cell_type": "code",
      "source": [
        "# Dividir os dados em conjuntos de treinamento e teste\n",
        "X_treino, X_teste, y_treino, y_teste = train_test_split(X, y, test_size=0.2, random_state=42)\n"
      ],
      "metadata": {
        "id": "KV15HTmKm1mj"
      },
      "execution_count": 37,
      "outputs": []
    },
    {
      "cell_type": "code",
      "source": [
        "# Escolher e treinar o modelo\n",
        "modelo = RandomForestClassifier(n_estimators=100, random_state=42)\n",
        "modelo.fit(X_treino, y_treino)"
      ],
      "metadata": {
        "colab": {
          "base_uri": "https://localhost:8080/",
          "height": 75
        },
        "id": "QjOiY7hDnymo",
        "outputId": "f37d0148-51cc-446b-a5ce-3ee906ddfd31"
      },
      "execution_count": 38,
      "outputs": [
        {
          "output_type": "execute_result",
          "data": {
            "text/plain": [
              "RandomForestClassifier(random_state=42)"
            ],
            "text/html": [
              "<style>#sk-container-id-2 {color: black;background-color: white;}#sk-container-id-2 pre{padding: 0;}#sk-container-id-2 div.sk-toggleable {background-color: white;}#sk-container-id-2 label.sk-toggleable__label {cursor: pointer;display: block;width: 100%;margin-bottom: 0;padding: 0.3em;box-sizing: border-box;text-align: center;}#sk-container-id-2 label.sk-toggleable__label-arrow:before {content: \"▸\";float: left;margin-right: 0.25em;color: #696969;}#sk-container-id-2 label.sk-toggleable__label-arrow:hover:before {color: black;}#sk-container-id-2 div.sk-estimator:hover label.sk-toggleable__label-arrow:before {color: black;}#sk-container-id-2 div.sk-toggleable__content {max-height: 0;max-width: 0;overflow: hidden;text-align: left;background-color: #f0f8ff;}#sk-container-id-2 div.sk-toggleable__content pre {margin: 0.2em;color: black;border-radius: 0.25em;background-color: #f0f8ff;}#sk-container-id-2 input.sk-toggleable__control:checked~div.sk-toggleable__content {max-height: 200px;max-width: 100%;overflow: auto;}#sk-container-id-2 input.sk-toggleable__control:checked~label.sk-toggleable__label-arrow:before {content: \"▾\";}#sk-container-id-2 div.sk-estimator input.sk-toggleable__control:checked~label.sk-toggleable__label {background-color: #d4ebff;}#sk-container-id-2 div.sk-label input.sk-toggleable__control:checked~label.sk-toggleable__label {background-color: #d4ebff;}#sk-container-id-2 input.sk-hidden--visually {border: 0;clip: rect(1px 1px 1px 1px);clip: rect(1px, 1px, 1px, 1px);height: 1px;margin: -1px;overflow: hidden;padding: 0;position: absolute;width: 1px;}#sk-container-id-2 div.sk-estimator {font-family: monospace;background-color: #f0f8ff;border: 1px dotted black;border-radius: 0.25em;box-sizing: border-box;margin-bottom: 0.5em;}#sk-container-id-2 div.sk-estimator:hover {background-color: #d4ebff;}#sk-container-id-2 div.sk-parallel-item::after {content: \"\";width: 100%;border-bottom: 1px solid gray;flex-grow: 1;}#sk-container-id-2 div.sk-label:hover label.sk-toggleable__label {background-color: #d4ebff;}#sk-container-id-2 div.sk-serial::before {content: \"\";position: absolute;border-left: 1px solid gray;box-sizing: border-box;top: 0;bottom: 0;left: 50%;z-index: 0;}#sk-container-id-2 div.sk-serial {display: flex;flex-direction: column;align-items: center;background-color: white;padding-right: 0.2em;padding-left: 0.2em;position: relative;}#sk-container-id-2 div.sk-item {position: relative;z-index: 1;}#sk-container-id-2 div.sk-parallel {display: flex;align-items: stretch;justify-content: center;background-color: white;position: relative;}#sk-container-id-2 div.sk-item::before, #sk-container-id-2 div.sk-parallel-item::before {content: \"\";position: absolute;border-left: 1px solid gray;box-sizing: border-box;top: 0;bottom: 0;left: 50%;z-index: -1;}#sk-container-id-2 div.sk-parallel-item {display: flex;flex-direction: column;z-index: 1;position: relative;background-color: white;}#sk-container-id-2 div.sk-parallel-item:first-child::after {align-self: flex-end;width: 50%;}#sk-container-id-2 div.sk-parallel-item:last-child::after {align-self: flex-start;width: 50%;}#sk-container-id-2 div.sk-parallel-item:only-child::after {width: 0;}#sk-container-id-2 div.sk-dashed-wrapped {border: 1px dashed gray;margin: 0 0.4em 0.5em 0.4em;box-sizing: border-box;padding-bottom: 0.4em;background-color: white;}#sk-container-id-2 div.sk-label label {font-family: monospace;font-weight: bold;display: inline-block;line-height: 1.2em;}#sk-container-id-2 div.sk-label-container {text-align: center;}#sk-container-id-2 div.sk-container {/* jupyter's `normalize.less` sets `[hidden] { display: none; }` but bootstrap.min.css set `[hidden] { display: none !important; }` so we also need the `!important` here to be able to override the default hidden behavior on the sphinx rendered scikit-learn.org. See: https://github.com/scikit-learn/scikit-learn/issues/21755 */display: inline-block !important;position: relative;}#sk-container-id-2 div.sk-text-repr-fallback {display: none;}</style><div id=\"sk-container-id-2\" class=\"sk-top-container\"><div class=\"sk-text-repr-fallback\"><pre>RandomForestClassifier(random_state=42)</pre><b>In a Jupyter environment, please rerun this cell to show the HTML representation or trust the notebook. <br />On GitHub, the HTML representation is unable to render, please try loading this page with nbviewer.org.</b></div><div class=\"sk-container\" hidden><div class=\"sk-item\"><div class=\"sk-estimator sk-toggleable\"><input class=\"sk-toggleable__control sk-hidden--visually\" id=\"sk-estimator-id-2\" type=\"checkbox\" checked><label for=\"sk-estimator-id-2\" class=\"sk-toggleable__label sk-toggleable__label-arrow\">RandomForestClassifier</label><div class=\"sk-toggleable__content\"><pre>RandomForestClassifier(random_state=42)</pre></div></div></div></div></div>"
            ]
          },
          "metadata": {},
          "execution_count": 38
        }
      ]
    },
    {
      "cell_type": "code",
      "source": [
        "# Avaliar o modelo\n",
        "predicoes = modelo.predict(X_teste)\n",
        "acuracia = accuracy_score(y_teste, predicoes)\n",
        "print(\"Acurácia do modelo:\", acuracia)"
      ],
      "metadata": {
        "colab": {
          "base_uri": "https://localhost:8080/"
        },
        "id": "s-5J-IztoxZp",
        "outputId": "0158aceb-5f26-4e7f-c414-50e99636afcc"
      },
      "execution_count": 39,
      "outputs": [
        {
          "output_type": "stream",
          "name": "stdout",
          "text": [
            "Acurácia do modelo: 0.008547008547008548\n"
          ]
        }
      ]
    },
    {
      "cell_type": "code",
      "source": [
        "resultados_previstos = modelo.predict(novo_jogo)\n",
        "print(\"Resultados previstos para o próximo jogo:\", resultados_previstos)"
      ],
      "metadata": {
        "colab": {
          "base_uri": "https://localhost:8080/"
        },
        "id": "VrRqaTcfBpmS",
        "outputId": "76956a7f-10d8-4f6e-cd92-fc481c038df6"
      },
      "execution_count": 52,
      "outputs": [
        {
          "output_type": "stream",
          "name": "stdout",
          "text": [
            "Resultados previstos para o próximo jogo: [[12475 54075 55722 78291 52247]\n",
            " [67634 97277 81373 46089 84241]\n",
            " [10492 23402 37401 30566 37869]]\n"
          ]
        },
        {
          "output_type": "stream",
          "name": "stderr",
          "text": [
            "/usr/local/lib/python3.10/dist-packages/sklearn/base.py:439: UserWarning: X does not have valid feature names, but RandomForestClassifier was fitted with feature names\n",
            "  warnings.warn(\n"
          ]
        }
      ]
    },
    {
      "cell_type": "code",
      "source": [],
      "metadata": {
        "id": "Kv7jlwDlFUEl"
      },
      "execution_count": null,
      "outputs": []
    },
    {
      "cell_type": "code",
      "execution_count": 53,
      "metadata": {
        "colab": {
          "base_uri": "https://localhost:8080/"
        },
        "outputId": "344fc9d1-544d-4189-c326-71e1870395ed",
        "id": "kF3TYUKCFU2j"
      },
      "outputs": [
        {
          "output_type": "stream",
          "name": "stdout",
          "text": [
            "Resultados previstos para o próximo jogo: [[40336 83586 73495 14166 40417]]\n"
          ]
        },
        {
          "output_type": "stream",
          "name": "stderr",
          "text": [
            "/usr/local/lib/python3.10/dist-packages/sklearn/base.py:439: UserWarning: X does not have valid feature names, but RandomForestClassifier was fitted with feature names\n",
            "  warnings.warn(\n"
          ]
        }
      ],
      "source": [
        "import pandas as pd\n",
        "from sklearn.ensemble import RandomForestClassifier\n",
        "from sklearn.metrics import accuracy_score\n",
        "\n",
        "# Carregar os dados do arquivo Excel\n",
        "dados = pd.read_excel(\"Federal.xlsx\")\n",
        "\n",
        "# Amostrar aleatoriamente 10% dos dados\n",
        "dados_amostrados = dados.sample(frac=0.1, random_state=42)\n",
        "\n",
        "# Definir as colunas dos prêmios como recursos (features)\n",
        "colunas_recursos = [\"1º prêmio\", \"2º prêmio\", \"3º prêmio\", \"4º prêmio\", \"5º prêmio\"]\n",
        "X = dados_amostrados[colunas_recursos]\n",
        "\n",
        "# Para simplificar, vamos prever todos os prêmios (do 1º ao 5º)\n",
        "# Normalmente, precisaríamos de um target específico ou definir a previsão adequadamente\n",
        "# Aqui, utilizamos todos os prêmios apenas para demonstrar o processo\n",
        "y = dados_amostrados[colunas_recursos]\n",
        "\n",
        "# Escolher e treinar o modelo\n",
        "modelo = RandomForestClassifier(n_estimators=100, random_state=42)\n",
        "modelo.fit(X, y)\n",
        "\n",
        "# Carregar os últimos resultados do arquivo Excel\n",
        "ultimos_resultados = dados.tail(1)\n",
        "\n",
        "# Selecionar os valores reais dos últimos resultados do jogo e usá-los como exemplos para prever os próximos resultados\n",
        "exemplos_reais = ultimos_resultados[colunas_recursos].values.tolist()\n",
        "\n",
        "# Prever os resultados do próximo jogo para todos os prêmios (do 1º ao 5º)\n",
        "resultados_previstos = modelo.predict(exemplos_reais)\n",
        "print(\"Resultados previstos para o próximo jogo:\", resultados_previstos)\n"
      ]
    },
    {
      "cell_type": "code",
      "source": [
        "!apt-get install -y git"
      ],
      "metadata": {
        "colab": {
          "base_uri": "https://localhost:8080/"
        },
        "id": "c1vcMrI_KBml",
        "outputId": "53571a97-8f67-463b-e538-741959afaa91"
      },
      "execution_count": 54,
      "outputs": [
        {
          "output_type": "stream",
          "name": "stdout",
          "text": [
            "Reading package lists... Done\n",
            "Building dependency tree... Done\n",
            "Reading state information... Done\n",
            "git is already the newest version (1:2.34.1-1ubuntu1.10).\n",
            "0 upgraded, 0 newly installed, 0 to remove and 45 not upgraded.\n"
          ]
        }
      ]
    },
    {
      "cell_type": "code",
      "source": [
        "!git config --global user.name \"joaop92\"\n",
        "!git config --global user.email \"joaopinteraminense@gmail.com\""
      ],
      "metadata": {
        "id": "pIdBn1VoKEoO"
      },
      "execution_count": 55,
      "outputs": []
    },
    {
      "cell_type": "code",
      "source": [
        "!git init\n"
      ],
      "metadata": {
        "colab": {
          "base_uri": "https://localhost:8080/"
        },
        "id": "MHhEZi_BMHwl",
        "outputId": "598f4fac-0890-48d5-f0fb-f09f0450ba9d"
      },
      "execution_count": 62,
      "outputs": [
        {
          "output_type": "stream",
          "name": "stdout",
          "text": [
            "Reinitialized existing Git repository in /content/.git/\n"
          ]
        }
      ]
    },
    {
      "cell_type": "code",
      "source": [
        "!git status\n"
      ],
      "metadata": {
        "colab": {
          "base_uri": "https://localhost:8080/"
        },
        "id": "6CjWbYVnMK68",
        "outputId": "9938614c-a45c-4149-f331-86fc560fa118"
      },
      "execution_count": 63,
      "outputs": [
        {
          "output_type": "stream",
          "name": "stdout",
          "text": [
            "On branch master\n",
            "\n",
            "No commits yet\n",
            "\n",
            "Untracked files:\n",
            "  (use \"git add <file>...\" to include in what will be committed)\n",
            "\t\u001b[31m.config/\u001b[m\n",
            "\t\u001b[31mFederal.xlsx\u001b[m\n",
            "\t\u001b[31mModelofederal/\u001b[m\n",
            "\t\u001b[31msample_data/\u001b[m\n",
            "\n",
            "nothing added to commit but untracked files present (use \"git add\" to track)\n"
          ]
        }
      ]
    },
    {
      "cell_type": "code",
      "source": [
        "!git add .\n"
      ],
      "metadata": {
        "colab": {
          "base_uri": "https://localhost:8080/"
        },
        "id": "uJomuA0TMNFc",
        "outputId": "c0f07992-0787-4a9d-bb80-d2fada15ee84"
      },
      "execution_count": 64,
      "outputs": [
        {
          "output_type": "stream",
          "name": "stdout",
          "text": [
            "error: 'Modelofederal/' does not have a commit checked out\n",
            "fatal: adding files failed\n"
          ]
        }
      ]
    },
    {
      "cell_type": "code",
      "source": [],
      "metadata": {
        "id": "jFi65HJgMPVN"
      },
      "execution_count": null,
      "outputs": []
    }
  ]
}